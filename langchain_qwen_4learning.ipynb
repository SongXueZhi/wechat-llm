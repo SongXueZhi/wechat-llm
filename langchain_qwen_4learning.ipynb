{
 "cells": [
  {
   "cell_type": "code",
   "execution_count": 9,
   "metadata": {},
   "outputs": [
    {
     "data": {
      "text/plain": [
       "AIMessage(content='Hello! How can I assist you today?', response_metadata={'model_name': 'qwen-turbo', 'finish_reason': 'stop', 'request_id': '195cd296-e075-91c6-a2f1-e2cacad741ce', 'token_usage': {'input_tokens': 9, 'output_tokens': 9, 'total_tokens': 18}}, id='run-d7227b97-4e9e-4428-99ec-cbe28599ede4-0')"
      ]
     },
     "execution_count": 9,
     "metadata": {},
     "output_type": "execute_result"
    }
   ],
   "source": [
    "from langchain_community.chat_models.tongyi import ChatTongyi\n",
    "from langchain_core.messages import HumanMessage\n",
    "import os\n",
    "\n",
    "chatLLM = ChatTongyi(\n",
    "    api_key='xxxx',\n",
    "    model=\"qwen-turbo\",\n",
    ")\n",
    "res = chatLLM.invoke([HumanMessage(content=\"hi\")], streaming=True)\n",
    "res"
   ]
  },
  {
   "cell_type": "code",
   "execution_count": 17,
   "metadata": {},
   "outputs": [
    {
     "data": {
      "text/plain": [
       "AIMessage(content='我是陈源，一位在文学、历史和文化研究领域具有博士学历的人物。在我的时代，我以文学评论家的身份活跃，并与现代文学的发展有所关联。如果您有关于文学、历史或者相关话题的问题，我会尽力提供见解或解答。', response_metadata={'model_name': 'qwen-turbo', 'finish_reason': 'stop', 'request_id': 'f69047a0-1e28-97c1-8361-3a8b68c79a54', 'token_usage': {'input_tokens': 24, 'output_tokens': 54, 'total_tokens': 78}}, id='run-f9f6554a-ad6d-41a9-a511-3170d3e2b1b8-0')"
      ]
     },
     "execution_count": 17,
     "metadata": {},
     "output_type": "execute_result"
    }
   ],
   "source": [
    "from langchain_core.messages import HumanMessage, SystemMessage\n",
    "\n",
    "messages = [\n",
    "    SystemMessage(\n",
    "        content=\"你是陈源，一个博士，参与聊天\"\n",
    "    ),\n",
    "    HumanMessage(\n",
    "        content=\"你是谁\"\n",
    "    ),\n",
    "]\n",
    "chatLLM(messages)"
   ]
  },
  {
   "cell_type": "code",
   "execution_count": 14,
   "metadata": {},
   "outputs": [
    {
     "data": {
      "text/plain": [
       "AIMessage(content='', additional_kwargs={'tool_calls': [{'function': {'name': 'get_current_weather', 'arguments': '{\"properties\": {\"location\": \"San Francisco\"}, \"type\": \"object\"}'}, 'id': '', 'type': 'function'}]}, response_metadata={'model_name': 'qwen-turbo', 'finish_reason': 'tool_calls', 'request_id': 'f9a2cd2a-4b37-94c4-a6dc-321021d0d3f7', 'token_usage': {'input_tokens': 229, 'output_tokens': 28, 'total_tokens': 257}}, id='run-74ef450a-0e04-4d33-ad21-b45667615b3d-0', tool_calls=[{'name': 'get_current_weather', 'args': {'properties': {'location': 'San Francisco'}, 'type': 'object'}, 'id': ''}])"
      ]
     },
     "execution_count": 14,
     "metadata": {},
     "output_type": "execute_result"
    }
   ],
   "source": [
    "tools = [\n",
    "    {\n",
    "        \"type\": \"function\",\n",
    "        \"function\": {\n",
    "            \"name\": \"get_current_time\",\n",
    "            \"description\": \"当你想知道现在的时间时非常有用。\",\n",
    "            \"parameters\": {},\n",
    "        },\n",
    "    },\n",
    "    {\n",
    "        \"type\": \"function\",\n",
    "        \"function\": {\n",
    "            \"name\": \"get_current_weather\",\n",
    "            \"description\": \"当你想查询指定城市的天气时非常有用。\",\n",
    "            \"parameters\": {\n",
    "                \"type\": \"object\",\n",
    "                \"properties\": {\n",
    "                    \"location\": {\n",
    "                        \"type\": \"string\",\n",
    "                        \"description\": \"城市或县区，比如北京市、杭州市、余杭区等。\",\n",
    "                    }\n",
    "                },\n",
    "            },\n",
    "            \"required\": [\"location\"],\n",
    "        },\n",
    "    },\n",
    "]\n",
    "\n",
    "messages = [\n",
    "    SystemMessage(content=\"You are a helpful assistant.\"),\n",
    "    HumanMessage(content=\"What is the weather like in San Francisco?\"),\n",
    "]\n",
    "llm_kwargs = {\"tools\": tools, \"result_format\": \"message\"}\n",
    "ai_message = chatLLM.bind(**llm_kwargs).invoke(messages)\n",
    "ai_message"
   ]
  },
  {
   "cell_type": "code",
   "execution_count": null,
   "metadata": {},
   "outputs": [],
   "source": []
  }
 ],
 "metadata": {
  "kernelspec": {
   "display_name": "llama-langchain",
   "language": "python",
   "name": "python3"
  },
  "language_info": {
   "codemirror_mode": {
    "name": "ipython",
    "version": 3
   },
   "file_extension": ".py",
   "mimetype": "text/x-python",
   "name": "python",
   "nbconvert_exporter": "python",
   "pygments_lexer": "ipython3",
   "version": "3.10.0"
  }
 },
 "nbformat": 4,
 "nbformat_minor": 2
}
